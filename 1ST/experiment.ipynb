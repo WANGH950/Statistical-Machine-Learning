{
 "cells": [
  {
   "cell_type": "code",
   "execution_count": 1,
   "metadata": {},
   "outputs": [],
   "source": [
    "import torch\n",
    "import numpy as np\n",
    "import matplotlib.pyplot as plt\n",
    "import torchvision"
   ]
  },
  {
   "cell_type": "code",
   "execution_count": 2,
   "metadata": {},
   "outputs": [],
   "source": [
    "data_set = [(np.array([3,3]),1),(np.array([4,3]),1),(np.array([1,1]),-1)]"
   ]
  },
  {
   "cell_type": "code",
   "execution_count": 3,
   "metadata": {},
   "outputs": [],
   "source": [
    "class Perception():\n",
    "    def __init__(self, dim) -> None:\n",
    "        # 构造函数\n",
    "        # dim:   特征维度\n",
    "        # w:     权重\n",
    "        # b:     偏置项\n",
    "\n",
    "        self.dim = dim\n",
    "        self.w = np.zeros([dim])\n",
    "        self.b = 0\n",
    "    \n",
    "    def train(self, data_set, epoch, learning_rate):\n",
    "        # 训练模型\n",
    "\n",
    "        for i in range(epoch):\n",
    "            for (x,y) in data_set:\n",
    "                if self.predict(x)*y <= 0:\n",
    "                    self.w = self.w + learning_rate*x*y\n",
    "                    self.b = self.b + learning_rate*y\n",
    "            # 计算准确率\n",
    "            acc = self.accuracy(data_set)\n",
    "            print('epoch: ',i+1, 'accuracy: ', acc)\n",
    "            # 早停条件\n",
    "            if acc == 1:\n",
    "                break\n",
    "        print('Trining complete.')\n",
    "\n",
    "    def predict(self, x):\n",
    "        # 预测\n",
    "\n",
    "        return np.sign(np.dot(self.w,x) + self.b)\n",
    "    \n",
    "    def accuracy(self, data_set):\n",
    "        # 计算精度\n",
    "        \n",
    "        acc = 0\n",
    "        for (x,y) in data_set:\n",
    "            if self.predict(x)*y > 0:\n",
    "                acc += 1\n",
    "        return acc/len(data_set)"
   ]
  },
  {
   "cell_type": "code",
   "execution_count": 4,
   "metadata": {},
   "outputs": [
    {
     "name": "stdout",
     "output_type": "stream",
     "text": [
      "epoch:  1 accuracy:  0.6666666666666666\n",
      "epoch:  2 accuracy:  0.6666666666666666\n",
      "epoch:  3 accuracy:  0.3333333333333333\n",
      "epoch:  4 accuracy:  0.6666666666666666\n",
      "epoch:  5 accuracy:  1.0\n",
      "Trining complete.\n"
     ]
    }
   ],
   "source": [
    "model = Perception(2)\n",
    "model.train(\n",
    "    data_set=data_set,\n",
    "    epoch=10,\n",
    "    learning_rate=0.01\n",
    ")"
   ]
  },
  {
   "cell_type": "code",
   "execution_count": 5,
   "metadata": {},
   "outputs": [],
   "source": [
    "xx = np.linspace(-1,5,100)\n",
    "yy = (-model.w[0]*xx-model.b)/model.w[1]"
   ]
  },
  {
   "cell_type": "code",
   "execution_count": 8,
   "metadata": {},
   "outputs": [
    {
     "data": {
      "image/png": "[encoded data removed]",
      "text/plain": [
       "<Figure size 640x480 with 1 Axes>"
      ]
     },
     "metadata": {},
     "output_type": "display_data"
    }
   ],
   "source": [
    "plt.plot(xx,yy,color = 'black')\n",
    "for (x,y) in data_set:\n",
    "    if y > 0:\n",
    "        plt.scatter(x[0],x[1],color='r')\n",
    "    else:\n",
    "        plt.scatter(x[0],x[1],color='b')\n",
    "plt.xlabel('$x_1$')\n",
    "plt.ylabel('$x_2$')\n",
    "plt.savefig('./figure/perception1.png',dpi=600)"
   ]
  },
  {
   "cell_type": "code",
   "execution_count": 9,
   "metadata": {},
   "outputs": [],
   "source": [
    "class PerceptionDual():\n",
    "    def __init__(self, data) -> None:\n",
    "        # 构造函数\n",
    "        # data:     训练数据\n",
    "        \n",
    "        self.data = data\n",
    "        self.N = len(data)\n",
    "        self.x = np.array([xx for (xx,_) in data])\n",
    "        self.y = np.array([yy for (_,yy) in data])\n",
    "        self.alpha = np.zeros([self.N])\n",
    "        self.b = 0\n",
    "    \n",
    "    def train(self, epoch, learning_rate):\n",
    "        # 训练模型\n",
    "        \n",
    "        for i in range(epoch):\n",
    "            for j in range(len(self.data)):\n",
    "                if self.predict(self.data[j][0])*self.data[j][1] <= 0:\n",
    "                    self.alpha[j] = self.alpha[j] + learning_rate\n",
    "                    self.b = self.b + learning_rate*self.data[j][1]\n",
    "            # 计算准确率\n",
    "            acc = self.accuracy(self.data)\n",
    "            print('epoch: ',i+1, 'accuracy: ', acc)\n",
    "            # 早停条件\n",
    "            if acc == 1:\n",
    "                break\n",
    "        print('Trining complete.')\n",
    "\n",
    "    def predict(self, x):\n",
    "        # 预测\n",
    "        return np.sign(np.dot(np.dot(self.x,x),self.alpha*self.y) + self.b)\n",
    "    \n",
    "    def accuracy(self, data_set):\n",
    "        # 计算精度\n",
    "\n",
    "        acc = 0\n",
    "        for (x,y) in data_set:\n",
    "            if self.predict(x)*y > 0:\n",
    "                acc += 1\n",
    "        return acc/len(data_set)"
   ]
  },
  {
   "cell_type": "code",
   "execution_count": 10,
   "metadata": {},
   "outputs": [
    {
     "name": "stdout",
     "output_type": "stream",
     "text": [
      "epoch:  1 accuracy:  0.6666666666666666\n",
      "epoch:  2 accuracy:  0.6666666666666666\n",
      "epoch:  3 accuracy:  0.3333333333333333\n",
      "epoch:  4 accuracy:  0.6666666666666666\n",
      "epoch:  5 accuracy:  1.0\n",
      "Trining complete.\n"
     ]
    }
   ],
   "source": [
    "model = PerceptionDual(data_set)\n",
    "model.train(\n",
    "    epoch=10,\n",
    "    learning_rate=0.01\n",
    ")"
   ]
  },
  {
   "cell_type": "code",
   "execution_count": 13,
   "metadata": {},
   "outputs": [],
   "source": [
    "xx = np.linspace(-1,5,100)\n",
    "w = np.sum(np.expand_dims(model.alpha*model.y,-1)*model.x,0)\n",
    "yy = (-w[0]*xx-model.b)/w[1]"
   ]
  },
  {
   "cell_type": "code",
   "execution_count": 14,
   "metadata": {},
   "outputs": [
    {
     "data": {
      "image/png": "[encoded data removed]",
      "text/plain": [
       "<Figure size 640x480 with 1 Axes>"
      ]
     },
     "metadata": {},
     "output_type": "display_data"
    }
   ],
   "source": [
    "plt.plot(xx,yy,color = 'black')\n",
    "for (x,y) in data_set:\n",
    "    if y > 0:\n",
    "        plt.scatter(x[0],x[1],color='r')\n",
    "    else:\n",
    "        plt.scatter(x[0],x[1],color='b')\n",
    "plt.xlabel('$x_1$')\n",
    "plt.ylabel('$x_2$')\n",
    "plt.savefig('./figure/perception2.png',dpi=600)"
   ]
  },
  {
   "cell_type": "code",
   "execution_count": 15,
   "metadata": {},
   "outputs": [],
   "source": [
    "data=torchvision.datasets.MNIST(\n",
    "    root='MNIST',\n",
    "    train=True,\n",
    "    transform=torchvision.transforms.ToTensor(),\n",
    "    download=True\n",
    ")"
   ]
  },
  {
   "cell_type": "code",
   "execution_count": 16,
   "metadata": {},
   "outputs": [
    {
     "name": "stderr",
     "output_type": "stream",
     "text": [
      "d:\\Anaconda3\\envs\\py37cpu\\lib\\site-packages\\torchvision\\datasets\\mnist.py:75: UserWarning: train_data has been renamed data\n",
      "  warnings.warn(\"train_data has been renamed data\")\n",
      "d:\\Anaconda3\\envs\\py37cpu\\lib\\site-packages\\torchvision\\datasets\\mnist.py:65: UserWarning: train_labels has been renamed targets\n",
      "  warnings.warn(\"train_labels has been renamed targets\")\n"
     ]
    }
   ],
   "source": [
    "train_data = data.train_data\n",
    "train_label = data.train_labels"
   ]
  },
  {
   "cell_type": "code",
   "execution_count": 17,
   "metadata": {},
   "outputs": [
    {
     "data": {
      "text/plain": [
       "<matplotlib.image.AxesImage at 0x22b6a5a4f48>"
      ]
     },
     "execution_count": 17,
     "metadata": {},
     "output_type": "execute_result"
    },
    {
     "data": {
      "image/png": "[encoded data removed]",
      "text/plain": [
       "<Figure size 640x480 with 1 Axes>"
      ]
     },
     "metadata": {},
     "output_type": "display_data"
    }
   ],
   "source": [
    "plt.imshow(train_data[1])"
   ]
  },
  {
   "cell_type": "code",
   "execution_count": 18,
   "metadata": {},
   "outputs": [
    {
     "data": {
      "text/plain": [
       "tensor(0)"
      ]
     },
     "execution_count": 18,
     "metadata": {},
     "output_type": "execute_result"
    }
   ],
   "source": [
    "train_label[1]"
   ]
  },
  {
   "cell_type": "code",
   "execution_count": 19,
   "metadata": {},
   "outputs": [],
   "source": [
    "# 转化为二分类\n",
    "data_set = []\n",
    "for i in range(train_data.shape[0]):\n",
    "    if train_label[i] < 5:\n",
    "        y = 1\n",
    "    else:\n",
    "        y = -1\n",
    "    data_set.append(\n",
    "        (train_data[i].reshape([28**2]).numpy()/255,y)\n",
    "    )"
   ]
  },
  {
   "cell_type": "code",
   "execution_count": 20,
   "metadata": {},
   "outputs": [],
   "source": [
    "model = PerceptionDual(data_set[:1000])"
   ]
  },
  {
   "cell_type": "code",
   "execution_count": 21,
   "metadata": {},
   "outputs": [
    {
     "name": "stdout",
     "output_type": "stream",
     "text": [
      "epoch:  1 accuracy:  0.821\n",
      "epoch:  2 accuracy:  0.849\n",
      "epoch:  3 accuracy:  0.853\n",
      "epoch:  4 accuracy:  0.83\n",
      "epoch:  5 accuracy:  0.883\n",
      "epoch:  6 accuracy:  0.884\n",
      "epoch:  7 accuracy:  0.844\n",
      "epoch:  8 accuracy:  0.884\n",
      "epoch:  9 accuracy:  0.85\n",
      "epoch:  10 accuracy:  0.889\n",
      "epoch:  11 accuracy:  0.874\n",
      "epoch:  12 accuracy:  0.852\n",
      "epoch:  13 accuracy:  0.85\n",
      "epoch:  14 accuracy:  0.888\n",
      "epoch:  15 accuracy:  0.897\n",
      "epoch:  16 accuracy:  0.889\n",
      "epoch:  17 accuracy:  0.917\n",
      "epoch:  18 accuracy:  0.88\n",
      "epoch:  19 accuracy:  0.912\n",
      "epoch:  20 accuracy:  0.909\n",
      "epoch:  21 accuracy:  0.9\n",
      "epoch:  22 accuracy:  0.912\n",
      "epoch:  23 accuracy:  0.866\n",
      "epoch:  24 accuracy:  0.932\n",
      "epoch:  25 accuracy:  0.909\n",
      "epoch:  26 accuracy:  0.819\n",
      "epoch:  27 accuracy:  0.901\n",
      "epoch:  28 accuracy:  0.921\n",
      "epoch:  29 accuracy:  0.92\n",
      "epoch:  30 accuracy:  0.923\n",
      "Trining complete.\n"
     ]
    }
   ],
   "source": [
    "model.train(\n",
    "    epoch=30,\n",
    "    learning_rate=0.001\n",
    ")"
   ]
  },
  {
   "cell_type": "code",
   "execution_count": 22,
   "metadata": {},
   "outputs": [],
   "source": [
    "class Node():\n",
    "    def __init__(self, value, data, label) -> None:\n",
    "        # 构造函数\n",
    "        # value:        节点的划分超平面参数\n",
    "        # data:         落在超平面上的数据点\n",
    "        # label:        落在超平面上的数据点对应的标签\n",
    "\n",
    "        self.value = value\n",
    "        self.data = data\n",
    "        self.label = label\n",
    "        self.left = None\n",
    "        self.right = None\n",
    "    \n",
    "    def set_left(self, node):\n",
    "        # 设置左子节点\n",
    "\n",
    "        if node != None:\n",
    "            self.left = node\n",
    "\n",
    "    def set_right(self, node):\n",
    "        # 设置右子节点\n",
    "\n",
    "        if node != None:\n",
    "            self.right = node\n",
    "\n",
    "class KDTree():\n",
    "    def __init__(self) -> None:\n",
    "        # 构造函数\n",
    "        # 用于存储KDTree，支持直接实例化对象时直接输入一个kd-树\n",
    "        self.root = None\n",
    "    \n",
    "    def create(self, data, label, j = 0):\n",
    "        # 递归构造平衡KD树\n",
    "\n",
    "        num, k = data.shape\n",
    "        if num == 0:\n",
    "            return None\n",
    "        else:\n",
    "            l = j % k\n",
    "            ind_sorted = np.argsort(data[:,l])\n",
    "            ind_median = ind_sorted[num//2]\n",
    "            value_ = int(np.median(data[ind_median,l]))\n",
    "            data_ = data[data[:,l]==value_]\n",
    "            label_ = label[data[:,l]==value_]\n",
    "            node = Node(\n",
    "                value=value_,\n",
    "                data=data_,\n",
    "                label=label_\n",
    "            )\n",
    "            node.set_left(\n",
    "                self.create(\n",
    "                    data=data[data[:,l]<value_],\n",
    "                    label=label[data[:,l]<value_],\n",
    "                    j=j+1\n",
    "                )\n",
    "            )\n",
    "            node.set_right(\n",
    "                self.create(\n",
    "                    data=data[data[:,l]>value_],\n",
    "                    label=label[data[:,l]>value_],\n",
    "                    j=j+1\n",
    "                )\n",
    "            )\n",
    "            if j == 0:\n",
    "                self.root = node\n",
    "            else:\n",
    "                return node\n",
    "    \n",
    "    def search(self, x, j = 0, node = None):\n",
    "        # 递归搜索KD树\n",
    "\n",
    "        if self.root == None:\n",
    "            print(\"You haven't created a KDTree yet.\")\n",
    "            return None\n",
    "        if j == 0:\n",
    "            node = self.root\n",
    "        k = x.shape[0]\n",
    "        l = j % k\n",
    "        # 叶子节点停止条件\n",
    "        if self.is_leaf(node):\n",
    "            distance = np.linalg.norm(x-node.data,2,1)\n",
    "            index = np.argmin(distance)\n",
    "            return node.data[index], node.label[index]\n",
    "        else:\n",
    "            # 计算当前节点中的最近数据点\n",
    "            distance = np.linalg.norm(x-node.data,2,1)\n",
    "            min_distance = np.min(distance)\n",
    "            index = np.argmin(distance)\n",
    "            nearest = node.data[index]\n",
    "            label = node.label[index]\n",
    "            # 递归计算子节点的最近数据点，并比较\n",
    "            if x[l] < node.value and node.left != None:\n",
    "                nearest_, label_ = self.search(\n",
    "                    x = x,\n",
    "                    j = j+1,\n",
    "                    node = node.left\n",
    "                )\n",
    "                if np.linalg.norm(x-nearest_,2) < min_distance:\n",
    "                    nearest = nearest_\n",
    "                    label = label_\n",
    "            elif x[l] > node.value and node.right != None:\n",
    "                nearest_, label_ = self.search(\n",
    "                    x = x,\n",
    "                    j = j+1,\n",
    "                    node = node.right\n",
    "                )\n",
    "                if np.linalg.norm(x-nearest_,2) < min_distance:\n",
    "                    nearest = nearest_\n",
    "                    label = label_\n",
    "            return nearest, label\n",
    "\n",
    "    def is_leaf(self, node: Node):\n",
    "        # 判断是否是叶子节点\n",
    "        \n",
    "        if node.left != None or node.right != None:\n",
    "            return False\n",
    "        else:\n",
    "            return True"
   ]
  },
  {
   "cell_type": "code",
   "execution_count": 23,
   "metadata": {},
   "outputs": [],
   "source": [
    "# 处理数据\n",
    "data_num,dimx,dimy = train_data.shape\n",
    "data = train_data.reshape([data_num,dimx*dimy])+torch.randint(0,10,[data_num,dimx*dimy])\n",
    "label = train_label.unsqueeze(-1)"
   ]
  },
  {
   "cell_type": "code",
   "execution_count": 24,
   "metadata": {},
   "outputs": [],
   "source": [
    "model = KDTree()\n",
    "tree = model.create(\n",
    "    data=data[:10000],\n",
    "    label=label[:10000]\n",
    ")"
   ]
  },
  {
   "cell_type": "code",
   "execution_count": 25,
   "metadata": {},
   "outputs": [],
   "source": [
    "x = data[20000]\n",
    "y,_ = model.search(x)"
   ]
  },
  {
   "cell_type": "code",
   "execution_count": 30,
   "metadata": {},
   "outputs": [
    {
     "data": {
      "image/png": "[encoded data removed]",
      "text/plain": [
       "<Figure size 640x480 with 1 Axes>"
      ]
     },
     "metadata": {},
     "output_type": "display_data"
    }
   ],
   "source": [
    "plt.imshow(x.reshape([dimx,dimy]))\n",
    "plt.savefig('./figure/mnist_rel.png',dpi=600)"
   ]
  },
  {
   "cell_type": "code",
   "execution_count": 31,
   "metadata": {},
   "outputs": [
    {
     "data": {
      "image/png": "[encoded data removed]",
      "text/plain": [
       "<Figure size 640x480 with 1 Axes>"
      ]
     },
     "metadata": {},
     "output_type": "display_data"
    }
   ],
   "source": [
    "yy = y[:dimx*dimy].reshape([dimx,dimy])\n",
    "plt.imshow(yy)\n",
    "plt.savefig('./figure/mnist_pre.png',dpi=600)"
   ]
  },
  {
   "cell_type": "code",
   "execution_count": 28,
   "metadata": {},
   "outputs": [],
   "source": [
    "k = 10000\n",
    "acc = 0\n",
    "data_test = data[-10000:]\n",
    "label_test = label[-10000:]\n",
    "for i in range(10000):\n",
    "    data_rel = data_test[i]\n",
    "    label_rel = label_test[i]\n",
    "    data_pre,label_pre = model.search(data_rel)\n",
    "    if label_pre == label_rel:\n",
    "        acc += 1\n",
    "acc /= 10000"
   ]
  },
  {
   "cell_type": "code",
   "execution_count": 29,
   "metadata": {},
   "outputs": [
    {
     "data": {
      "text/plain": [
       "0.9038"
      ]
     },
     "execution_count": 29,
     "metadata": {},
     "output_type": "execute_result"
    }
   ],
   "source": [
    "acc"
   ]
  }
 ],
 "metadata": {
  "kernelspec": {
   "display_name": "py37cpu",
   "language": "python",
   "name": "python3"
  },
  "language_info": {
   "codemirror_mode": {
    "name": "ipython",
    "version": 3
   },
   "file_extension": ".py",
   "mimetype": "text/x-python",
   "name": "python",
   "nbconvert_exporter": "python",
   "pygments_lexer": "ipython3",
   "version": "3.7.15"
  },
  "orig_nbformat": 4
 },
 "nbformat": 4,
 "nbformat_minor": 2
}
